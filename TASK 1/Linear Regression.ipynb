{
 "cells": [
  {
   "cell_type": "markdown",
   "id": "8b4174b4",
   "metadata": {},
   "source": [
    "# LINEAR REGRESSION WITH PYTHON SCIKIT-LERAN"
   ]
  },
  {
   "cell_type": "markdown",
   "id": "0ccfcbee",
   "metadata": {},
   "source": [
    "In this regression task, we will predict the percentage of marks that a student is expected to score based upon the number of hours they studied. This is a simple linear regression task as it involves just two variables"
   ]
  },
  {
   "cell_type": "markdown",
   "id": "a6109d21",
   "metadata": {},
   "source": [
    "# AUTHOR :  IGEMHOKHAI SHEDRACH"
   ]
  },
  {
   "cell_type": "code",
   "execution_count": 26,
   "id": "31b7674b-1369-44de-83e1-c95a30ea6368",
   "metadata": {
    "colab": {},
    "colab_type": "code",
    "id": "V9QN2ZxC38pB"
   },
   "outputs": [],
   "source": [
    "# Importing required libaries\n",
    "import pandas as pd\n",
    "import numpy as np  \n",
    "import matplotlib.pyplot as plt  \n",
    "%matplotlib inline"
   ]
  },
  {
   "cell_type": "markdown",
   "id": "be3854a4",
   "metadata": {},
   "source": [
    "Loading Data into df"
   ]
  },
  {
   "cell_type": "code",
   "execution_count": 2,
   "id": "d508b388-6889-41b3-92b0-8c9a5919c759",
   "metadata": {},
   "outputs": [
    {
     "data": {
      "text/html": [
       "<div>\n",
       "<style scoped>\n",
       "    .dataframe tbody tr th:only-of-type {\n",
       "        vertical-align: middle;\n",
       "    }\n",
       "\n",
       "    .dataframe tbody tr th {\n",
       "        vertical-align: top;\n",
       "    }\n",
       "\n",
       "    .dataframe thead th {\n",
       "        text-align: right;\n",
       "    }\n",
       "</style>\n",
       "<table border=\"1\" class=\"dataframe\">\n",
       "  <thead>\n",
       "    <tr style=\"text-align: right;\">\n",
       "      <th></th>\n",
       "      <th>Hours</th>\n",
       "      <th>Scores</th>\n",
       "    </tr>\n",
       "  </thead>\n",
       "  <tbody>\n",
       "    <tr>\n",
       "      <th>0</th>\n",
       "      <td>2.5</td>\n",
       "      <td>21</td>\n",
       "    </tr>\n",
       "    <tr>\n",
       "      <th>1</th>\n",
       "      <td>5.1</td>\n",
       "      <td>47</td>\n",
       "    </tr>\n",
       "    <tr>\n",
       "      <th>2</th>\n",
       "      <td>3.2</td>\n",
       "      <td>27</td>\n",
       "    </tr>\n",
       "    <tr>\n",
       "      <th>3</th>\n",
       "      <td>8.5</td>\n",
       "      <td>75</td>\n",
       "    </tr>\n",
       "    <tr>\n",
       "      <th>4</th>\n",
       "      <td>3.5</td>\n",
       "      <td>30</td>\n",
       "    </tr>\n",
       "  </tbody>\n",
       "</table>\n",
       "</div>"
      ],
      "text/plain": [
       "   Hours  Scores\n",
       "0    2.5      21\n",
       "1    5.1      47\n",
       "2    3.2      27\n",
       "3    8.5      75\n",
       "4    3.5      30"
      ]
     },
     "execution_count": 2,
     "metadata": {},
     "output_type": "execute_result"
    }
   ],
   "source": [
    "df=pd.read_csv(r\"C:\\Users\\User\\Desktop\\INTERNSHIPS\\The Spark Foundation\\TASK 1\\data-w.csv\")\n",
    "df.head()"
   ]
  },
  {
   "cell_type": "markdown",
   "id": "e84ff6d9",
   "metadata": {},
   "source": [
    "visualising data"
   ]
  },
  {
   "cell_type": "code",
   "execution_count": 3,
   "id": "e8e34695-e09d-4cea-ab58-538fc38c6f7a",
   "metadata": {
    "scrolled": true
   },
   "outputs": [
    {
     "data": {
      "image/png": "[encoded data removed]",
      "text/plain": [
       "<Figure size 432x288 with 1 Axes>"
      ]
     },
     "metadata": {
      "needs_background": "light"
     },
     "output_type": "display_data"
    }
   ],
   "source": [
    "df.plot(x='Hours', y='Scores', style='o')  \n",
    "plt.title('Hours vs Percentage')  \n",
    "plt.xlabel('Hours Studied')  \n",
    "plt.ylabel('Percentage Score')  \n",
    "plt.show()"
   ]
  },
  {
   "cell_type": "markdown",
   "id": "1df0763c",
   "metadata": {},
   "source": [
    "Split data into target and feature"
   ]
  },
  {
   "cell_type": "code",
   "execution_count": 4,
   "id": "3f06e4f5-beef-4e39-8cd8-6288ba49223b",
   "metadata": {},
   "outputs": [],
   "source": [
    "from sklearn.model_selection import train_test_split"
   ]
  },
  {
   "cell_type": "code",
   "execution_count": 5,
   "id": "0d07b9ec-98aa-448f-ad86-d44b26b84442",
   "metadata": {},
   "outputs": [],
   "source": [
    "X = df.iloc[:, :-1].values  \n",
    "y = df.iloc[:, 1].values  "
   ]
  },
  {
   "cell_type": "code",
   "execution_count": 6,
   "id": "9df8f063-9484-468b-9fa3-60195ac67a16",
   "metadata": {},
   "outputs": [],
   "source": [
    "X_train, X_test, y_train, y_test = train_test_split(X, y,test_size=0.2, random_state=42)"
   ]
  },
  {
   "cell_type": "markdown",
   "id": "3bbc4a9f-1c83-442f-9a09-00106d92cf42",
   "metadata": {},
   "source": [
    "CREATING BASELINE"
   ]
  },
  {
   "cell_type": "code",
   "execution_count": 7,
   "id": "ce531282-100c-4d64-bf01-5a0127079794",
   "metadata": {},
   "outputs": [],
   "source": [
    "from sklearn.metrics import mean_absolute_error"
   ]
  },
  {
   "cell_type": "code",
   "execution_count": 8,
   "id": "9ac2867e-9ede-4626-9d2e-3c7e5fc6f69d",
   "metadata": {},
   "outputs": [
    {
     "data": {
      "text/plain": [
       "50.85"
      ]
     },
     "execution_count": 8,
     "metadata": {},
     "output_type": "execute_result"
    }
   ],
   "source": [
    "y_mean=y_train.mean()\n",
    "y_mean"
   ]
  },
  {
   "cell_type": "code",
   "execution_count": 9,
   "id": "4bb46a99-8084-419c-aa46-7c4bc4e37c6b",
   "metadata": {},
   "outputs": [
    {
     "data": {
      "text/plain": [
       "[50.85, 50.85, 50.85]"
      ]
     },
     "execution_count": 9,
     "metadata": {},
     "output_type": "execute_result"
    }
   ],
   "source": [
    "y_pred_baseline=[y_mean]*len(y_train)\n",
    "y_pred_baseline[:3]"
   ]
  },
  {
   "cell_type": "markdown",
   "id": "05a26702",
   "metadata": {},
   "source": [
    "Visualising baseline"
   ]
  },
  {
   "cell_type": "code",
   "execution_count": 10,
   "id": "27ed503e-a674-4e3f-842d-a063eb2fc933",
   "metadata": {},
   "outputs": [
    {
     "data": {
      "image/png": "[encoded data removed]",
      "text/plain": [
       "<Figure size 432x288 with 1 Axes>"
      ]
     },
     "metadata": {
      "needs_background": "light"
     },
     "output_type": "display_data"
    }
   ],
   "source": [
    "plt.plot(X_train,y_pred_baseline,color=\"red\",label=\"Baseline Model\")\n",
    "plt.scatter(X_train,y_train)\n",
    "plt.title('Hours vs Percentage')  \n",
    "plt.xlabel('Hours Studied')  \n",
    "plt.ylabel('Percentage Score')\n",
    "plt.legend();"
   ]
  },
  {
   "cell_type": "markdown",
   "id": "8b251a22",
   "metadata": {},
   "source": [
    "Estimate Baseline"
   ]
  },
  {
   "cell_type": "code",
   "execution_count": 11,
   "id": "acf97825-122d-4bf4-b4b2-f2b5ed6aaf54",
   "metadata": {},
   "outputs": [
    {
     "name": "stdout",
     "output_type": "stream",
     "text": [
      "BASELINE MAE: 22.14\n"
     ]
    }
   ],
   "source": [
    "mae_baseline= mean_absolute_error(y_train,y_pred_baseline)\n",
    "print(\"BASELINE MAE:\",round(mae_baseline,2))"
   ]
  },
  {
   "cell_type": "markdown",
   "id": "a86cc3c3",
   "metadata": {},
   "source": [
    "# Building Model"
   ]
  },
  {
   "cell_type": "code",
   "execution_count": 12,
   "id": "fa328068-0c2a-4c81-b5bb-fcc4450f8e7d",
   "metadata": {},
   "outputs": [],
   "source": [
    "from sklearn.linear_model import LinearRegression  "
   ]
  },
  {
   "cell_type": "code",
   "execution_count": 13,
   "id": "b20475af-e455-4950-890c-5e6493f2b64e",
   "metadata": {},
   "outputs": [
    {
     "data": {
      "text/plain": [
       "LinearRegression()"
      ]
     },
     "execution_count": 13,
     "metadata": {},
     "output_type": "execute_result"
    }
   ],
   "source": [
    "model=LinearRegression()\n",
    "model.fit(X_train,y_train)"
   ]
  },
  {
   "cell_type": "code",
   "execution_count": 14,
   "id": "4a2f921e-646d-47a7-8905-00faac9ceec8",
   "metadata": {},
   "outputs": [],
   "source": [
    "y_pred=model.predict(X_test)"
   ]
  },
  {
   "cell_type": "code",
   "execution_count": 15,
   "id": "559c7097-329e-485c-b031-bb3840266789",
   "metadata": {
    "tags": []
   },
   "outputs": [
    {
     "data": {
      "text/plain": [
       "array([83.18814104, 27.03208774, 27.03208774, 69.63323162, 59.95115347])"
      ]
     },
     "execution_count": 15,
     "metadata": {},
     "output_type": "execute_result"
    }
   ],
   "source": [
    "y_pred"
   ]
  },
  {
   "cell_type": "code",
   "execution_count": 16,
   "id": "f01339cb-6a86-4b3b-a20c-a26561590eed",
   "metadata": {},
   "outputs": [
    {
     "data": {
      "text/html": [
       "<div>\n",
       "<style scoped>\n",
       "    .dataframe tbody tr th:only-of-type {\n",
       "        vertical-align: middle;\n",
       "    }\n",
       "\n",
       "    .dataframe tbody tr th {\n",
       "        vertical-align: top;\n",
       "    }\n",
       "\n",
       "    .dataframe thead th {\n",
       "        text-align: right;\n",
       "    }\n",
       "</style>\n",
       "<table border=\"1\" class=\"dataframe\">\n",
       "  <thead>\n",
       "    <tr style=\"text-align: right;\">\n",
       "      <th></th>\n",
       "      <th>Actual</th>\n",
       "      <th>Predicted</th>\n",
       "    </tr>\n",
       "  </thead>\n",
       "  <tbody>\n",
       "    <tr>\n",
       "      <th>0</th>\n",
       "      <td>81</td>\n",
       "      <td>83.188141</td>\n",
       "    </tr>\n",
       "    <tr>\n",
       "      <th>1</th>\n",
       "      <td>30</td>\n",
       "      <td>27.032088</td>\n",
       "    </tr>\n",
       "    <tr>\n",
       "      <th>2</th>\n",
       "      <td>21</td>\n",
       "      <td>27.032088</td>\n",
       "    </tr>\n",
       "    <tr>\n",
       "      <th>3</th>\n",
       "      <td>76</td>\n",
       "      <td>69.633232</td>\n",
       "    </tr>\n",
       "    <tr>\n",
       "      <th>4</th>\n",
       "      <td>62</td>\n",
       "      <td>59.951153</td>\n",
       "    </tr>\n",
       "  </tbody>\n",
       "</table>\n",
       "</div>"
      ],
      "text/plain": [
       "   Actual  Predicted\n",
       "0      81  83.188141\n",
       "1      30  27.032088\n",
       "2      21  27.032088\n",
       "3      76  69.633232\n",
       "4      62  59.951153"
      ]
     },
     "execution_count": 16,
     "metadata": {},
     "output_type": "execute_result"
    }
   ],
   "source": [
    "df_pred = pd.DataFrame({'Actual': y_test, 'Predicted': y_pred})  \n",
    "df_pred.head()"
   ]
  },
  {
   "cell_type": "code",
   "execution_count": 17,
   "id": "73b5fe52-2500-46b2-a464-9e900cce3118",
   "metadata": {},
   "outputs": [
    {
     "data": {
      "image/png": "[encoded data removed]",
      "text/plain": [
       "<Figure size 720x432 with 1 Axes>"
      ]
     },
     "metadata": {
      "needs_background": "light"
     },
     "output_type": "display_data"
    }
   ],
   "source": [
    "plt.figure(figsize=(10,6))\n",
    "plt.plot(df_pred['Actual'])\n",
    "plt.plot(df_pred['Predicted'])\n",
    "plt.ylabel('Percentage Score')\n",
    "plt.legend(['Actual', 'Predicted'], loc='best')\n",
    "plt.title('Actual vs Predicted')\n",
    "plt.show()"
   ]
  },
  {
   "cell_type": "markdown",
   "id": "9303e890",
   "metadata": {},
   "source": [
    "Estimating Model's Prediction"
   ]
  },
  {
   "cell_type": "code",
   "execution_count": 18,
   "id": "e73ce9d0-972a-4fbd-84a1-4d8f021e6fe1",
   "metadata": {},
   "outputs": [
    {
     "name": "stdout",
     "output_type": "stream",
     "text": [
      "Percentage Score=2.827+9.682*(Hours Studied)\n"
     ]
    }
   ],
   "source": [
    "intercept=round(model.intercept_,3)\n",
    "coefficient=round(model.coef_[0],3)\n",
    "print(f\"Percentage Score={intercept}+{coefficient}*(Hours Studied)\")"
   ]
  },
  {
   "cell_type": "code",
   "execution_count": 19,
   "id": "ca4cb2a8-3198-4975-aaae-2fff077b8bcf",
   "metadata": {},
   "outputs": [
    {
     "data": {
      "image/png": "[encoded data removed]",
      "text/plain": [
       "<Figure size 432x288 with 1 Axes>"
      ]
     },
     "metadata": {
      "needs_background": "light"
     },
     "output_type": "display_data"
    }
   ],
   "source": [
    "# Plotting the regression line\n",
    "line = coefficient*X+intercept\n",
    "\n",
    "# Plotting for the test data\n",
    "plt.scatter(X, y)\n",
    "plt.plot(X, line);\n",
    "plt.show()"
   ]
  },
  {
   "cell_type": "markdown",
   "id": "a1f3f0da",
   "metadata": {},
   "source": [
    "Testing Model"
   ]
  },
  {
   "cell_type": "code",
   "execution_count": 20,
   "id": "6da50dda-5c9f-441b-bc48-1b3b4c9cb267",
   "metadata": {
    "scrolled": true
   },
   "outputs": [
    {
     "name": "stdout",
     "output_type": "stream",
     "text": [
      "No of Hours = 9.25\n",
      "Predicted Score = 92.38611528261494\n"
     ]
    }
   ],
   "source": [
    "hours = 9.25\n",
    "own_pred = model.predict([[hours]])\n",
    "print(\"No of Hours = {}\".format(hours))\n",
    "print(\"Predicted Score = {}\".format(own_pred[0]))"
   ]
  },
  {
   "cell_type": "markdown",
   "id": "51ca0e43",
   "metadata": {},
   "source": [
    "Estimate Model Perfermance"
   ]
  },
  {
   "cell_type": "code",
   "execution_count": 21,
   "id": "53a9c17b-99f6-4c6b-8956-d3645496dc5c",
   "metadata": {
    "scrolled": true
   },
   "outputs": [
    {
     "data": {
      "text/plain": [
       "3.9207511902099244"
      ]
     },
     "execution_count": 21,
     "metadata": {},
     "output_type": "execute_result"
    }
   ],
   "source": [
    "mae_pred=mean_absolute_error(y_test,y_pred)\n",
    "mae_pred"
   ]
  },
  {
   "cell_type": "markdown",
   "id": "999245ab",
   "metadata": {},
   "source": [
    "Creating a function that takes the values for hours, parses it into a dataframe and returns a prediction"
   ]
  },
  {
   "cell_type": "code",
   "execution_count": 22,
   "id": "2eb952e1",
   "metadata": {},
   "outputs": [],
   "source": [
    "def make_prediction(Hours):\n",
    "    data={\"Hours\":Hours}\n",
    "    df=pd.DataFrame(data,index=[0])\n",
    "    prediction=model.predict(df).round(1)[0]\n",
    "    return f\"Percentage Score: {prediction}\""
   ]
  },
  {
   "cell_type": "code",
   "execution_count": 24,
   "id": "0d51ad5c",
   "metadata": {},
   "outputs": [],
   "source": [
    "from ipywidgets import FloatSlider, interact"
   ]
  },
  {
   "cell_type": "markdown",
   "id": "70000255",
   "metadata": {},
   "source": [
    "Creating an interactive widget that displays how the percentage score varies with the number of hours studied"
   ]
  },
  {
   "cell_type": "code",
   "execution_count": 25,
   "id": "86ac8350",
   "metadata": {},
   "outputs": [
    {
     "data": {
      "application/vnd.jupyter.widget-view+json": {
       "model_id": "5c8a7e64035c4541b2133360230edd8c",
       "version_major": 2,
       "version_minor": 0
      },
      "text/plain": [
       "interactive(children=(FloatSlider(value=5.220000000000001, description='Hours', max=10.0, min=2.5, step=0.05),…"
      ]
     },
     "metadata": {},
     "output_type": "display_data"
    }
   ],
   "source": [
    "interact(\n",
    "    make_prediction,\n",
    "    Hours=FloatSlider(\n",
    "        min=X_test.min(),\n",
    "        max=10,\n",
    "        step=0.05,\n",
    "        value=X_test.mean(),\n",
    "    )\n",
    ");"
   ]
  },
  {
   "cell_type": "markdown",
   "id": "d22de099",
   "metadata": {},
   "source": [
    "Using Linear Regression, we have been able to come up with a model, that predicts the percentage score of student based on the number of hours studied. Kindly note, that for better evaluation of performance, more features such as Students's IQ, Rate of Assimilation and other student dependent metrics would be needed."
   ]
  },
  {
   "cell_type": "code",
   "execution_count": null,
   "id": "9c1d9afc",
   "metadata": {},
   "outputs": [],
   "source": []
  }
 ],
 "metadata": {
  "kernelspec": {
   "display_name": "Python 3 (ipykernel)",
   "language": "python",
   "name": "python3"
  },
  "language_info": {
   "codemirror_mode": {
    "name": "ipython",
    "version": 3
   },
   "file_extension": ".py",
   "mimetype": "text/x-python",
   "name": "python",
   "nbconvert_exporter": "python",
   "pygments_lexer": "ipython3",
   "version": "3.9.7"
  }
 },
 "nbformat": 4,
 "nbformat_minor": 5
}
